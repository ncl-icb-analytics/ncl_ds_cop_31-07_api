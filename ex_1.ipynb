{
 "cells": [
  {
   "cell_type": "markdown",
   "metadata": {},
   "source": [
    "# Excercise 1\n",
    "\n",
    "## Objectives\n",
    "* Connect to an API\n",
    "* Download data from an API\n",
    "* Examine an API response JSON\n",
    "* Output the response"
   ]
  },
  {
   "cell_type": "code",
   "execution_count": null,
   "metadata": {},
   "outputs": [],
   "source": [
    "#Imports\n",
    "import json\n",
    "import pandas as pd\n",
    "import requests\n",
    "from datetime import datetime, timedelta"
   ]
  },
  {
   "cell_type": "markdown",
   "metadata": {},
   "source": [
    "### Make an API Request"
   ]
  },
  {
   "cell_type": "code",
   "execution_count": null,
   "metadata": {},
   "outputs": [],
   "source": [
    "#Set request URL\n",
    "\n",
    "####ENTER CODE HERE###############\n",
    "##Set the hash_id to one of the NCL sites\n",
    "hash_id = \"\"\n",
    "##################################\n",
    "\n",
    "##Build the request url to request data for our chosen site\n",
    "request_url = f\"https://smart.nhs.uk/api/sitrep/site/{hash_id}/\""
   ]
  },
  {
   "cell_type": "code",
   "execution_count": null,
   "metadata": {},
   "outputs": [],
   "source": [
    "#Set request parameters\n",
    "####ENTER CODE HERE###############\n",
    "key = \"\"\n",
    "##################################\n",
    "\n",
    "#End the start date (7 days ago) and the end date (today)\n",
    "date_end = datetime.now().date()\n",
    "date_start = date_end - timedelta(days = 7)\n",
    "\n",
    "#Set up the parameters object\n",
    "params = {\n",
    "    ####ENTER CODE HERE###############\n",
    "    \"key\":,         \n",
    "    \"date_start\": ,\n",
    "    \"date_end\":\n",
    "    ##################################\n",
    "}\n",
    "\n",
    "#Set request headers\n",
    "headers = {\n",
    "    \"Content-Type\": \"application/json\"\n",
    "}"
   ]
  },
  {
   "cell_type": "code",
   "execution_count": null,
   "metadata": {},
   "outputs": [],
   "source": [
    "#Make request\n",
    "response = requests.get(request_url, params=params, headers=headers)\n",
    "\n",
    "#Check for successful response status\n",
    "####ENTER CODE HERE###############\n",
    "if response.status_code == :\n",
    "##################################\n",
    "    #Save the response\n",
    "    response_data = json.loads(response.text)\n",
    "\n",
    "else:\n",
    "    # Handle the error\n",
    "    print(f\"Error: {response.status_code}\")\n",
    "    raise Exception (response.text) "
   ]
  },
  {
   "cell_type": "markdown",
   "metadata": {},
   "source": [
    "### Examine the API Response"
   ]
  },
  {
   "cell_type": "code",
   "execution_count": null,
   "metadata": {},
   "outputs": [],
   "source": [
    "#Look at what we recieved from the API\n",
    "response_data"
   ]
  },
  {
   "cell_type": "code",
   "execution_count": null,
   "metadata": {},
   "outputs": [],
   "source": [
    "#Check the keys of the JSON to see what components it is made of\n",
    "response_data.keys()"
   ]
  },
  {
   "cell_type": "code",
   "execution_count": null,
   "metadata": {},
   "outputs": [],
   "source": [
    "#Check each component of the response data\n",
    "##Use [0] to only look at the first item\n",
    "##You can change [0] to a different number to look at other items\n",
    "response_data['OUTPUT'][0]"
   ]
  },
  {
   "cell_type": "code",
   "execution_count": null,
   "metadata": {},
   "outputs": [],
   "source": [
    "response_data['RESPONSE']"
   ]
  },
  {
   "cell_type": "code",
   "execution_count": null,
   "metadata": {},
   "outputs": [],
   "source": [
    "response_data['STATUS']"
   ]
  },
  {
   "cell_type": "markdown",
   "metadata": {},
   "source": [
    "### Output the API Response"
   ]
  },
  {
   "cell_type": "code",
   "execution_count": null,
   "metadata": {},
   "outputs": [],
   "source": [
    "#Convert the payload into a tabular form\n",
    "df_payload = pd.DataFrame(data=response_data['OUTPUT'])\n",
    "\n",
    "#Print the first 5 rows\n",
    "df_payload.head()"
   ]
  },
  {
   "cell_type": "code",
   "execution_count": null,
   "metadata": {},
   "outputs": [],
   "source": [
    "#Format the data, in this case remove unwanted columns\n",
    "\n",
    "####ENTER CODE HERE###############\n",
    "columns_to_keep = []\n",
    "##################################\n",
    "\n",
    "df_formatted = df_payload[columns_to_keep]\n",
    "\n",
    "df_formatted.head()"
   ]
  },
  {
   "cell_type": "code",
   "execution_count": null,
   "metadata": {},
   "outputs": [],
   "source": [
    "#Export the data\n",
    "#For now, we'll export this to an excel file\n",
    "\n",
    "####ENTER CODE HERE###############\n",
    "filename = \"\"\n",
    "##################################\n",
    "\n",
    "df_formatted.to_csv(filename + \".csv\", index=False)"
   ]
  }
 ],
 "metadata": {
  "kernelspec": {
   "display_name": "Python 3",
   "language": "python",
   "name": "python3"
  },
  "language_info": {
   "codemirror_mode": {
    "name": "ipython",
    "version": 3
   },
   "file_extension": ".py",
   "mimetype": "text/x-python",
   "name": "python",
   "nbconvert_exporter": "python",
   "pygments_lexer": "ipython3",
   "version": "3.12.3"
  }
 },
 "nbformat": 4,
 "nbformat_minor": 2
}
